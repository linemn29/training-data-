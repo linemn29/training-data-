{
 "cells": [
  {
   "cell_type": "code",
   "execution_count": 5,
   "metadata": {},
   "outputs": [
    {
     "name": "stdout",
     "output_type": "stream",
     "text": [
      "{'title': 'White House pushes back on conservative argument over Georgia, Colorado voting laws amid MLB dispute', 'title_detail': {'type': 'text/plain', 'language': None, 'base': 'https://www.yahoo.com/news/rss/', 'value': 'White House pushes back on conservative argument over Georgia, Colorado voting laws amid MLB dispute'}, 'links': [{'rel': 'alternate', 'type': 'text/html', 'href': 'https://news.yahoo.com/white-house-pushes-back-on-conservative-argument-over-georgia-colorado-voting-laws-amid-mlb-dispute-204944498.html'}], 'link': 'https://news.yahoo.com/white-house-pushes-back-on-conservative-argument-over-georgia-colorado-voting-laws-amid-mlb-dispute-204944498.html', 'published': '2021-04-06T20:49:44Z', 'published_parsed': time.struct_time(tm_year=2021, tm_mon=4, tm_mday=6, tm_hour=20, tm_min=49, tm_sec=44, tm_wday=1, tm_yday=96, tm_isdst=0), 'source': {'href': 'https://news.yahoo.com/', 'title': 'Yahoo News'}, 'id': 'white-house-pushes-back-on-conservative-argument-over-georgia-colorado-voting-laws-amid-mlb-dispute-204944498.html', 'guidislink': False, 'media_content': [{'height': '86', 'url': 'https://s.yimg.com/os/creatr-uploaded-images/2021-04/4bbee180-970a-11eb-afff-18eb5c7052d7', 'width': '130'}], 'media_credit': [{'role': 'publishing company'}], 'credit': ''}\n",
      "Published:  2021-04-06T20:49:44Z\n",
      "Title detail: \n",
      "{'type': 'text/plain', 'language': None, 'base': 'https://www.yahoo.com/news/rss/', 'value': 'White House pushes back on conservative argument over Georgia, Colorado voting laws amid MLB dispute'}\n",
      "{'title': 'NYC Doormen Who Stood By as Elderly Asian Woman was Beaten Outside Have Been Fired', 'title_detail': {'type': 'text/plain', 'language': None, 'base': 'https://www.yahoo.com/news/rss/', 'value': 'NYC Doormen Who Stood By as Elderly Asian Woman was Beaten Outside Have Been Fired'}, 'links': [{'rel': 'alternate', 'type': 'text/html', 'href': 'https://news.yahoo.com/nyc-doormen-stood-elderly-asian-212432708.html'}], 'link': 'https://news.yahoo.com/nyc-doormen-stood-elderly-asian-212432708.html', 'published': '2021-04-06T21:24:32Z', 'published_parsed': time.struct_time(tm_year=2021, tm_mon=4, tm_mday=6, tm_hour=21, tm_min=24, tm_sec=32, tm_wday=1, tm_yday=96, tm_isdst=0), 'source': {'href': 'https://nextshark.com/', 'title': 'NextShark'}, 'id': 'nyc-doormen-stood-elderly-asian-212432708.html', 'guidislink': False, 'media_content': [{'height': '86', 'url': 'https://s.yimg.com/uu/api/res/1.2/zyQZ4Y11skQqqjujEXJBag--~B/aD02OTQ7dz0xMzM0O2FwcGlkPXl0YWNoeW9u/https://media.zenfs.com/en/nextshark_articles_509/e978cb22212015167981c767aa1cbb83', 'width': '130'}], 'media_credit': [{'role': 'publishing company'}], 'credit': ''}\n",
      "Published:  2021-04-06T21:24:32Z\n",
      "Title detail: \n",
      "{'type': 'text/plain', 'language': None, 'base': 'https://www.yahoo.com/news/rss/', 'value': 'NYC Doormen Who Stood By as Elderly Asian Woman was Beaten Outside Have Been Fired'}\n",
      "{'title': 'Gallup: Democrats now outnumber Republicans by 9 percentage points, thanks to independents', 'title_detail': {'type': 'text/plain', 'language': None, 'base': 'https://www.yahoo.com/news/rss/', 'value': 'Gallup: Democrats now outnumber Republicans by 9 percentage points, thanks to independents'}, 'links': [{'rel': 'alternate', 'type': 'text/html', 'href': 'https://news.yahoo.com/gallup-democrats-now-outnumber-republicans-111006678.html'}], 'link': 'https://news.yahoo.com/gallup-democrats-now-outnumber-republicans-111006678.html', 'published': '2021-04-07T11:10:06Z', 'published_parsed': time.struct_time(tm_year=2021, tm_mon=4, tm_mday=7, tm_hour=11, tm_min=10, tm_sec=6, tm_wday=2, tm_yday=97, tm_isdst=0), 'source': {'href': 'https://theweek.com/', 'title': 'The Week'}, 'id': 'gallup-democrats-now-outnumber-republicans-111006678.html', 'guidislink': False, 'media_content': [{'height': '86', 'url': 'https://s.yimg.com/uu/api/res/1.2/j.cDmntstAycdaM7VPrNbA--~B/aD01NjA7dz04NDA7YXBwaWQ9eXRhY2h5b24-/https://media.zenfs.com/en/the_week_574/90014ec04365fdcf602e6e82da903bea', 'width': '130'}], 'media_credit': [{'role': 'publishing company'}], 'credit': ''}\n",
      "Published:  2021-04-07T11:10:06Z\n",
      "Title detail: \n",
      "{'type': 'text/plain', 'language': None, 'base': 'https://www.yahoo.com/news/rss/', 'value': 'Gallup: Democrats now outnumber Republicans by 9 percentage points, thanks to independents'}\n",
      "{'title': \"Kim says North Korea facing its 'worst-ever situation'\", 'title_detail': {'type': 'text/plain', 'language': None, 'base': 'https://www.yahoo.com/news/rss/', 'value': \"Kim says North Korea facing its 'worst-ever situation'\"}, 'links': [{'rel': 'alternate', 'type': 'text/html', 'href': 'https://news.yahoo.com/kim-says-north-korea-facing-051408981.html'}], 'link': 'https://news.yahoo.com/kim-says-north-korea-facing-051408981.html', 'published': '2021-04-07T05:14:08Z', 'published_parsed': time.struct_time(tm_year=2021, tm_mon=4, tm_mday=7, tm_hour=5, tm_min=14, tm_sec=8, tm_wday=2, tm_yday=97, tm_isdst=0), 'source': {'href': 'http://www.ap.org/', 'title': 'Associated Press'}, 'id': 'kim-says-north-korea-facing-051408981.html', 'guidislink': False, 'media_content': [{'height': '86', 'url': 'https://s.yimg.com/uu/api/res/1.2/byhOSGn4LhdhUEJ4VBSvOA--~B/aD0zMzMyO3c9NTAwMDthcHBpZD15dGFjaHlvbg--/https://media.zenfs.com/en/ap.org/68a15f66306a6d998ab38d7be0d793d6', 'width': '130'}], 'media_credit': [{'role': 'publishing company'}], 'credit': ''}\n",
      "Published:  2021-04-07T05:14:08Z\n",
      "Title detail: \n",
      "{'type': 'text/plain', 'language': None, 'base': 'https://www.yahoo.com/news/rss/', 'value': \"Kim says North Korea facing its 'worst-ever situation'\"}\n",
      "{'title': 'Stephen Miller launches legal group to block Biden agenda in court', 'title_detail': {'type': 'text/plain', 'language': None, 'base': 'https://www.yahoo.com/news/rss/', 'value': 'Stephen Miller launches legal group to block Biden agenda in court'}, 'links': [{'rel': 'alternate', 'type': 'text/html', 'href': 'https://news.yahoo.com/stephen-miller-launches-legal-group-130518030.html'}], 'link': 'https://news.yahoo.com/stephen-miller-launches-legal-group-130518030.html', 'published': '2021-04-07T13:05:18Z', 'published_parsed': time.struct_time(tm_year=2021, tm_mon=4, tm_mday=7, tm_hour=13, tm_min=5, tm_sec=18, tm_wday=2, tm_yday=97, tm_isdst=0), 'source': {'href': 'https://www.axios.com/', 'title': 'Axios'}, 'id': 'stephen-miller-launches-legal-group-130518030.html', 'guidislink': False, 'media_content': [{'height': '86', 'url': 'https://s.yimg.com/uu/api/res/1.2/VCpES0Lg8qIRd6qux7Nz5w--~B/aD03MjA7dz0xMjgwO2FwcGlkPXl0YWNoeW9u/https://media.zenfs.com/en/axios_articles_623/7232825bc437d2d935a36036be1a4608', 'width': '130'}], 'media_credit': [{'role': 'publishing company'}], 'credit': ''}\n",
      "Published:  2021-04-07T13:05:18Z\n",
      "Title detail: \n",
      "{'type': 'text/plain', 'language': None, 'base': 'https://www.yahoo.com/news/rss/', 'value': 'Stephen Miller launches legal group to block Biden agenda in court'}\n",
      "{'title': 'Biden Plan Will Raise Taxes on the Middle Class', 'title_detail': {'type': 'text/plain', 'language': None, 'base': 'https://www.yahoo.com/news/rss/', 'value': 'Biden Plan Will Raise Taxes on the Middle Class'}, 'links': [{'rel': 'alternate', 'type': 'text/html', 'href': 'https://news.yahoo.com/biden-plan-raise-taxes-middle-103004546.html'}], 'link': 'https://news.yahoo.com/biden-plan-raise-taxes-middle-103004546.html', 'published': '2021-04-07T10:30:04Z', 'published_parsed': time.struct_time(tm_year=2021, tm_mon=4, tm_mday=7, tm_hour=10, tm_min=30, tm_sec=4, tm_wday=2, tm_yday=97, tm_isdst=0), 'source': {'href': 'https://www.nationalreview.com/', 'title': 'National Review'}, 'id': 'biden-plan-raise-taxes-middle-103004546.html', 'guidislink': False, 'media_content': [{'height': '86', 'url': 'https://s.yimg.com/uu/api/res/1.2/e3JMMf8anbvFW9gTg09OrA--~B/aD00NjQ7dz03OTU7YXBwaWQ9eXRhY2h5b24-/https://media.zenfs.com/en/the_national_review_738/9c511aad67fbc8d2a7d17991e0f077ec', 'width': '130'}], 'media_credit': [{'role': 'publishing company'}], 'credit': ''}\n",
      "Published:  2021-04-07T10:30:04Z\n",
      "Title detail: \n",
      "{'type': 'text/plain', 'language': None, 'base': 'https://www.yahoo.com/news/rss/', 'value': 'Biden Plan Will Raise Taxes on the Middle Class'}\n",
      "{'title': 'Two children killed in Roanoke backhoe accident studied at private Fort Worth school', 'title_detail': {'type': 'text/plain', 'language': None, 'base': 'https://www.yahoo.com/news/rss/', 'value': 'Two children killed in Roanoke backhoe accident studied at private Fort Worth school'}, 'links': [{'rel': 'alternate', 'type': 'text/html', 'href': 'https://news.yahoo.com/two-children-dumped-backhoe-bucket-034215127.html'}], 'link': 'https://news.yahoo.com/two-children-dumped-backhoe-bucket-034215127.html', 'published': '2021-04-07T03:42:15Z', 'published_parsed': time.struct_time(tm_year=2021, tm_mon=4, tm_mday=7, tm_hour=3, tm_min=42, tm_sec=15, tm_wday=2, tm_yday=97, tm_isdst=0), 'source': {'href': 'https://www.star-telegram.com/', 'title': 'Fort Worth Star-Telegram'}, 'id': 'two-children-dumped-backhoe-bucket-034215127.html', 'guidislink': False, 'media_content': [{'height': '86', 'url': 'https://s.yimg.com/uu/api/res/1.2/e4EMMZkZgP1DXEXqQ2O2IQ--~B/aD02OTU7dz0xMTQwO2FwcGlkPXl0YWNoeW9u/https://media.zenfs.com/en/fort_worth_star_telegram_mcclatchy_952/e33fa8e0213c1f59ebf4d115893793ae', 'width': '130'}], 'media_credit': [{'role': 'publishing company'}], 'credit': ''}\n",
      "Published:  2021-04-07T03:42:15Z\n",
      "Title detail: \n",
      "{'type': 'text/plain', 'language': None, 'base': 'https://www.yahoo.com/news/rss/', 'value': 'Two children killed in Roanoke backhoe accident studied at private Fort Worth school'}\n",
      "{'title': \"The Daily Show's Trevor Noah explains 'vaccine passports,' explores why Fox News hates them so much\", 'title_detail': {'type': 'text/plain', 'language': None, 'base': 'https://www.yahoo.com/news/rss/', 'value': \"The Daily Show's Trevor Noah explains 'vaccine passports,' explores why Fox News hates them so much\"}, 'links': [{'rel': 'alternate', 'type': 'text/html', 'href': 'https://news.yahoo.com/daily-shows-trevor-noah-explains-062100271.html'}], 'link': 'https://news.yahoo.com/daily-shows-trevor-noah-explains-062100271.html', 'published': '2021-04-07T06:21:00Z', 'published_parsed': time.struct_time(tm_year=2021, tm_mon=4, tm_mday=7, tm_hour=6, tm_min=21, tm_sec=0, tm_wday=2, tm_yday=97, tm_isdst=0), 'source': {'href': 'https://theweek.com/', 'title': 'The Week'}, 'id': 'daily-shows-trevor-noah-explains-062100271.html', 'guidislink': False, 'media_content': [{'height': '86', 'url': 'https://s.yimg.com/uu/api/res/1.2/gi58TzlWOTCNLSI4PxdaHg--~B/aD01NjA7dz04NDA7YXBwaWQ9eXRhY2h5b24-/https://media.zenfs.com/en/the_week_574/4d5b3284648d0e6688de0d6ac573d8af', 'width': '130'}], 'media_credit': [{'role': 'publishing company'}], 'credit': ''}\n",
      "Published:  2021-04-07T06:21:00Z\n",
      "Title detail: \n",
      "{'type': 'text/plain', 'language': None, 'base': 'https://www.yahoo.com/news/rss/', 'value': \"The Daily Show's Trevor Noah explains 'vaccine passports,' explores why Fox News hates them so much\"}\n",
      "{'title': 'Russia to boost ties with Pakistan, supply military gear', 'title_detail': {'type': 'text/plain', 'language': None, 'base': 'https://www.yahoo.com/news/rss/', 'value': 'Russia to boost ties with Pakistan, supply military gear'}, 'links': [{'rel': 'alternate', 'type': 'text/html', 'href': 'https://news.yahoo.com/russia-boost-ties-pakistan-supply-100529723.html'}], 'link': 'https://news.yahoo.com/russia-boost-ties-pakistan-supply-100529723.html', 'published': '2021-04-07T10:05:29Z', 'published_parsed': time.struct_time(tm_year=2021, tm_mon=4, tm_mday=7, tm_hour=10, tm_min=5, tm_sec=29, tm_wday=2, tm_yday=97, tm_isdst=0), 'source': {'href': 'http://www.ap.org/', 'title': 'Associated Press'}, 'id': 'russia-boost-ties-pakistan-supply-100529723.html', 'guidislink': False, 'media_content': [{'height': '86', 'url': 'https://s.yimg.com/uu/api/res/1.2/dmxAex9zpxcYltQSyyCQUw--~B/aD0xNjQ4O3c9MjI4MDthcHBpZD15dGFjaHlvbg--/https://media.zenfs.com/en/ap.org/6598246c5f21c15d31824a4b0df8c09b', 'width': '130'}], 'media_credit': [{'role': 'publishing company'}], 'credit': ''}\n",
      "Published:  2021-04-07T10:05:29Z\n",
      "Title detail: \n",
      "{'type': 'text/plain', 'language': None, 'base': 'https://www.yahoo.com/news/rss/', 'value': 'Russia to boost ties with Pakistan, supply military gear'}\n",
      "{'title': \"Israel's election: Ideological foes weigh pact to oust Netanyahu\", 'title_detail': {'type': 'text/plain', 'language': None, 'base': 'https://www.yahoo.com/news/rss/', 'value': \"Israel's election: Ideological foes weigh pact to oust Netanyahu\"}, 'links': [{'rel': 'alternate', 'type': 'text/html', 'href': 'https://news.yahoo.com/israels-election-ideological-foes-weigh-090017326.html'}], 'link': 'https://news.yahoo.com/israels-election-ideological-foes-weigh-090017326.html', 'published': '2021-04-07T09:00:17Z', 'published_parsed': time.struct_time(tm_year=2021, tm_mon=4, tm_mday=7, tm_hour=9, tm_min=0, tm_sec=17, tm_wday=2, tm_yday=97, tm_isdst=0), 'source': {'href': 'https://www.axios.com/', 'title': 'Axios'}, 'id': 'israels-election-ideological-foes-weigh-090017326.html', 'guidislink': False, 'media_content': [{'height': '86', 'url': 'https://s.yimg.com/uu/api/res/1.2/wpUsyZC9SJmbF1lyQj9GfQ--~B/aD03MjA7dz0xMjgwO2FwcGlkPXl0YWNoeW9u/https://media.zenfs.com/en/axios_articles_623/39d2912732af5a3277d9cb1262571025', 'width': '130'}], 'media_credit': [{'role': 'publishing company'}], 'credit': ''}\n",
      "Published:  2021-04-07T09:00:17Z\n",
      "Title detail: \n",
      "{'type': 'text/plain', 'language': None, 'base': 'https://www.yahoo.com/news/rss/', 'value': \"Israel's election: Ideological foes weigh pact to oust Netanyahu\"}\n",
      "{'title': 'Why Ireland Has the Most Miserable Lockdown in the Western World', 'title_detail': {'type': 'text/plain', 'language': None, 'base': 'https://www.yahoo.com/news/rss/', 'value': 'Why Ireland Has the Most Miserable Lockdown in the Western World'}, 'links': [{'rel': 'alternate', 'type': 'text/html', 'href': 'https://news.yahoo.com/why-ireland-most-miserable-lockdown-103043036.html'}], 'link': 'https://news.yahoo.com/why-ireland-most-miserable-lockdown-103043036.html', 'published': '2021-04-07T10:30:43Z', 'published_parsed': time.struct_time(tm_year=2021, tm_mon=4, tm_mday=7, tm_hour=10, tm_min=30, tm_sec=43, tm_wday=2, tm_yday=97, tm_isdst=0), 'source': {'href': 'https://www.nationalreview.com/', 'title': 'National Review'}, 'id': 'why-ireland-most-miserable-lockdown-103043036.html', 'guidislink': False, 'media_content': [{'height': '86', 'url': 'https://s.yimg.com/uu/api/res/1.2/g.CWldwwWaXaHKGVhN9qPQ--~B/aD00NjQ7dz03OTU7YXBwaWQ9eXRhY2h5b24-/https://media.zenfs.com/en/the_national_review_738/d49cae6a2a4fcc9d0644d39d6febc9bb', 'width': '130'}], 'media_credit': [{'role': 'publishing company'}], 'credit': ''}\n",
      "Published:  2021-04-07T10:30:43Z\n",
      "Title detail: \n",
      "{'type': 'text/plain', 'language': None, 'base': 'https://www.yahoo.com/news/rss/', 'value': 'Why Ireland Has the Most Miserable Lockdown in the Western World'}\n",
      "{'title': \"Pro-Trump women's organization stands by Matt Gaetz, invites him to speak at summit\", 'title_detail': {'type': 'text/plain', 'language': None, 'base': 'https://www.yahoo.com/news/rss/', 'value': \"Pro-Trump women's organization stands by Matt Gaetz, invites him to speak at summit\"}, 'links': [{'rel': 'alternate', 'type': 'text/html', 'href': 'https://news.yahoo.com/pro-trump-womens-organization-stands-041800457.html'}], 'link': 'https://news.yahoo.com/pro-trump-womens-organization-stands-041800457.html', 'published': '2021-04-07T04:18:00Z', 'published_parsed': time.struct_time(tm_year=2021, tm_mon=4, tm_mday=7, tm_hour=4, tm_min=18, tm_sec=0, tm_wday=2, tm_yday=97, tm_isdst=0), 'source': {'href': 'https://theweek.com/', 'title': 'The Week'}, 'id': 'pro-trump-womens-organization-stands-041800457.html', 'guidislink': False, 'media_content': [{'height': '86', 'url': 'https://s.yimg.com/uu/api/res/1.2/qzvNuTseqjrqGQAbRvU3LA--~B/aD01NjA7dz04NDA7YXBwaWQ9eXRhY2h5b24-/https://media.zenfs.com/en/the_week_574/c0647dcaf17912410740a56d096894a3', 'width': '130'}], 'media_credit': [{'role': 'publishing company'}], 'credit': ''}\n",
      "Published:  2021-04-07T04:18:00Z\n",
      "Title detail: \n",
      "{'type': 'text/plain', 'language': None, 'base': 'https://www.yahoo.com/news/rss/', 'value': \"Pro-Trump women's organization stands by Matt Gaetz, invites him to speak at summit\"}\n",
      "keys:  dict_keys(['title', 'title_detail', 'links', 'link', 'published', 'published_parsed', 'source', 'id', 'guidislink', 'media_content', 'media_credit', 'credit'])\n"
     ]
    }
   ],
   "source": [
    "#installation du lecteur python\n",
    "import feedparser\n",
    "# Création d'une instance du flux et lecture de ses propriétésimport feedparser\n",
    "NewsFeed1= feedparser.parse(\"https://www.yahoo.com/news/rss/\")\n",
    "#print(NewsFeed)\n",
    "for i in range(len(NewsFeed1)):\n",
    "    entry1 = NewsFeed1.entries[i]\n",
    "    print(entry1)\n",
    "    print(\"Published: \",entry1.published)\n",
    "    print(\"Title detail: \")\n",
    "    print(entry1.title_detail)\n",
    "print(\"keys: \",entry1.keys())"
   ]
  },
  {
   "cell_type": "code",
   "execution_count": null,
   "metadata": {},
   "outputs": [],
   "source": []
  }
 ],
 "metadata": {
  "kernelspec": {
   "display_name": "Python 3",
   "language": "python",
   "name": "python3"
  },
  "language_info": {
   "codemirror_mode": {
    "name": "ipython",
    "version": 3
   },
   "file_extension": ".py",
   "mimetype": "text/x-python",
   "name": "python",
   "nbconvert_exporter": "python",
   "pygments_lexer": "ipython3",
   "version": "3.8.5"
  }
 },
 "nbformat": 4,
 "nbformat_minor": 4
}
