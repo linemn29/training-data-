{
 "cells": [
  {
   "cell_type": "code",
   "execution_count": 7,
   "metadata": {},
   "outputs": [
    {
     "name": "stdout",
     "output_type": "stream",
     "text": [
      "{'FlightInfoResult': {'next_offset': 1, 'flights': [{'ident': 'AEA1028', 'aircrafttype': 'B738', 'filed_ete': '02:00:00', 'filed_time': 1614849300, 'filed_departuretime': 1615022100, 'filed_airspeed_kts': 278, 'filed_airspeed_mach': '', 'filed_altitude': 0, 'route': '', 'actualdeparturetime': 0, 'estimatedarrivaltime': 1615029300, 'actualarrivaltime': 0, 'diverted': '', 'origin': 'LFPO', 'destination': 'LEMD', 'originName': 'Paris-Orly', 'originCity': 'Orly (near Paris)', 'destinationName': \"Int'l de Madrid-Barajas\", 'destinationCity': 'Madrid'}]}}\n"
     ]
    }
   ],
   "source": [
    "import json\n",
    "with open(\"C:/Users/MSI/Desktop/training data/flights.json\", \"r\") as read_file:\n",
    "    fdata = json.load(read_file)\n",
    "    print(fdata)"
   ]
  },
  {
   "cell_type": "code",
   "execution_count": 8,
   "metadata": {},
   "outputs": [
    {
     "name": "stdout",
     "output_type": "stream",
     "text": [
      "dict_keys(['FlightInfoResult'])\n"
     ]
    },
    {
     "data": {
      "text/plain": [
       "dict_keys(['next_offset', 'flights'])"
      ]
     },
     "execution_count": 8,
     "metadata": {},
     "output_type": "execute_result"
    }
   ],
   "source": [
    "print(fdata.keys())\n",
    "fdata['FlightInfoResult'].keys()#tous les cles mta3 flight"
   ]
  },
  {
   "cell_type": "code",
   "execution_count": 14,
   "metadata": {},
   "outputs": [],
   "source": [
    "import pandas as pd\n",
    "import time\n",
    "num_vol=fdata['FlightInfoResult']['flights'][0]['ident']# index 0 FLIGHT wa7da \n",
    "type_avion=fdata['FlightInfoResult']['flights'][0]['aircrafttype']\n",
    "depart_time=fdata['FlightInfoResult']['flights'][0]['filed_departuretime']\n",
    "arrival_time=fdata['FlightInfoResult']['flights'][0]['estimatedarrivaltime']#convertir time car il sous forme timestampe\n",
    "Depart_time = time.ctime(depart_time)\n",
    "arrivée_time= time.ctime(arrival_time)\n",
    "depart=fdata['FlightInfoResult']['flights'][0]['origin']\n",
    "depart_Nom=fdata['FlightInfoResult']['flights'][0]['originName']\n",
    "destination=fdata['FlightInfoResult']['flights'][0]['destination']\n",
    "destination_Nom=fdata['FlightInfoResult']['flights'][0]['destinationName']"
   ]
  },
  {
   "cell_type": "code",
   "execution_count": 15,
   "metadata": {},
   "outputs": [
    {
     "data": {
      "text/html": [
       "<div>\n",
       "<style scoped>\n",
       "    .dataframe tbody tr th:only-of-type {\n",
       "        vertical-align: middle;\n",
       "    }\n",
       "\n",
       "    .dataframe tbody tr th {\n",
       "        vertical-align: top;\n",
       "    }\n",
       "\n",
       "    .dataframe thead th {\n",
       "        text-align: right;\n",
       "    }\n",
       "</style>\n",
       "<table border=\"1\" class=\"dataframe\">\n",
       "  <thead>\n",
       "    <tr style=\"text-align: right;\">\n",
       "      <th></th>\n",
       "      <th>Nom_ destination</th>\n",
       "      <th>Nom_depart</th>\n",
       "      <th>Num_vol</th>\n",
       "      <th>Type Avion</th>\n",
       "      <th>depart</th>\n",
       "      <th>destination</th>\n",
       "      <th>temps Depart</th>\n",
       "      <th>temps arrivée</th>\n",
       "    </tr>\n",
       "  </thead>\n",
       "  <tbody>\n",
       "    <tr>\n",
       "      <th>0</th>\n",
       "      <td>Int'l de Madrid-Barajas</td>\n",
       "      <td>Paris-Orly</td>\n",
       "      <td>AEA1028</td>\n",
       "      <td>B738</td>\n",
       "      <td>LFPO</td>\n",
       "      <td>LEMD</td>\n",
       "      <td>Sat Mar  6 10:15:00 2021</td>\n",
       "      <td>Sat Mar  6 12:15:00 2021</td>\n",
       "    </tr>\n",
       "  </tbody>\n",
       "</table>\n",
       "</div>"
      ],
      "text/plain": [
       "          Nom_ destination  Nom_depart  Num_vol Type Avion depart destination  \\\n",
       "0  Int'l de Madrid-Barajas  Paris-Orly  AEA1028       B738   LFPO        LEMD   \n",
       "\n",
       "              temps Depart             temps arrivée   \n",
       "0  Sat Mar  6 10:15:00 2021  Sat Mar  6 12:15:00 2021  "
      ]
     },
     "metadata": {},
     "output_type": "display_data"
    }
   ],
   "source": [
    "liste1=pd.DataFrame()\n",
    "liste1=liste1.append({'Num_vol':num_vol, 'Type Avion':type_avion, 'temps Depart ': Depart_time, 'temps arrivée ': arrivée_time, 'depart': depart, 'destination': destination, 'Nom_depart': depart_Nom, 'Nom_ destination':destination_Nom}, ignore_index=True)\n",
    "display(liste1)"
   ]
  },
  {
   "cell_type": "code",
   "execution_count": null,
   "metadata": {},
   "outputs": [],
   "source": []
  }
 ],
 "metadata": {
  "kernelspec": {
   "display_name": "Python 3",
   "language": "python",
   "name": "python3"
  },
  "language_info": {
   "codemirror_mode": {
    "name": "ipython",
    "version": 3
   },
   "file_extension": ".py",
   "mimetype": "text/x-python",
   "name": "python",
   "nbconvert_exporter": "python",
   "pygments_lexer": "ipython3",
   "version": "3.8.5"
  }
 },
 "nbformat": 4,
 "nbformat_minor": 4
}
